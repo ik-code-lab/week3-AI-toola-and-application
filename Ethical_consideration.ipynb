{
  "nbformat": 4,
  "nbformat_minor": 0,
  "metadata": {
    "colab": {
      "provenance": [],
      "authorship_tag": "ABX9TyNlWvzGlOnT3otw6ZSzq6iP",
      "include_colab_link": true
    },
    "kernelspec": {
      "name": "python3",
      "display_name": "Python 3"
    },
    "language_info": {
      "name": "python"
    }
  },
  "cells": [
    {
      "cell_type": "markdown",
      "metadata": {
        "id": "view-in-github",
        "colab_type": "text"
      },
      "source": [
        "<a href=\"https://colab.research.google.com/github/ik-code-lab/week3-AI-toola-and-application/blob/main/Ethical_consideration.ipynb\" target=\"_parent\"><img src=\"https://colab.research.google.com/assets/colab-badge.svg\" alt=\"Open In Colab\"/></a>"
      ]
    },
    {
      "cell_type": "code",
      "execution_count": null,
      "metadata": {
        "id": "p6x5hM__-SIj"
      },
      "outputs": [],
      "source": []
    },
    {
      "cell_type": "markdown",
      "source": [
        "Ethical Considerations in MNIST & Amazon Reviews Models\n",
        "Potential Biases\n",
        "MNIST (Handwritten Digits)\n",
        "\n",
        "Data Bias:\n",
        "\n",
        "Primarily contains Western numerals (0-9), excluding other numeral systems\n",
        "\n",
        "Dominated by clean, centered handwriting; may struggle with slanted/noisy digits.\n",
        "\n",
        "Representation Bias:\n",
        "\n",
        "Mostly sourced from English-speaking contributors, underrepresenting non-Western writing styles.\n",
        "\n",
        "Deployment Bias:\n",
        "\n",
        "May fail in real-world scenarios where handwriting varies (e.g., medical prescriptions, checks).\n",
        "\n"
      ],
      "metadata": {
        "id": "Z5cPn0cc_5ea"
      }
    },
    {
      "cell_type": "markdown",
      "source": [
        "Mitigation Strategies\n",
        "TensorFlow Fairness Indicators\n",
        "What It Does:\n",
        "\n",
        "Quantifies bias across subgroups (race) using metrics like false positive rate disparity.\n",
        "\n",
        "Integrates with TensorFlow Model Analysis (TFMA) for visualization.\n",
        "\n",
        "Application:\n",
        "\n",
        "MNIST: Evaluate accuracy per writing style (e.g., left-handed vs. right-handed users).\n",
        "\n"
      ],
      "metadata": {
        "id": "GtA8Gk8lAqEP"
      }
    },
    {
      "cell_type": "code",
      "source": [
        "from tensorflow_model_analysis.addons.fairness.post_export_metrics import fairness_indicators\n",
        "fairness_metrics = fairness_indicators(\n",
        "    thresholds=[0.1, 0.3, 0.5, 0.7, 0.9],\n",
        "    target_prediction_key='prediction'\n",
        ")"
      ],
      "metadata": {
        "id": "S_mjZbAcA-5D"
      },
      "execution_count": null,
      "outputs": []
    }
  ]
}